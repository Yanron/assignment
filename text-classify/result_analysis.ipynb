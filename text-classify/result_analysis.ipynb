{
 "cells": [
  {
   "cell_type": "markdown",
   "metadata": {},
   "source": [
    "## 结果分析"
   ]
  },
  {
   "cell_type": "code",
   "execution_count": 1,
   "metadata": {},
   "outputs": [],
   "source": [
    "import numpy as np\n",
    "import json\n",
    "from collections import Counter\n",
    "import os\n",
    "import time"
   ]
  },
  {
   "cell_type": "code",
   "execution_count": 2,
   "metadata": {},
   "outputs": [],
   "source": [
    "cate=['Auto','business','edu','ent','healthy','mil','policy','sports','tech','tourism','women']\n",
    "allResults={}\n",
    "def analysis(path):\n",
    "    print(time.strftime('%Y-%m-%d %H:%M:%S', time.localtime()))\n",
    "    for i,category in enumerate(cate):\n",
    "        r=[]\n",
    "        fullPath=path+'tfidf'+category+'.json'\n",
    "        with open(fullPath,'r',encoding='utf-8') as f:\n",
    "            results=json.load(f)\n",
    "        print(len(results))\n",
    "        for name,result in results.items():\n",
    "            r.append(result)\n",
    "        resultCounter=Counter(r)\n",
    "        allResults.setdefault(category,resultCounter)\n",
    "    print(time.strftime('%Y-%m-%d %H:%M:%S', time.localtime()))"
   ]
  },
  {
   "cell_type": "code",
   "execution_count": 3,
   "metadata": {},
   "outputs": [
    {
     "name": "stdout",
     "output_type": "stream",
     "text": [
      "2019-01-24 17:45:53\n",
      "55414\n",
      "78017\n",
      "53770\n",
      "72977\n",
      "32434\n",
      "42170\n",
      "31543\n",
      "61731\n",
      "35837\n",
      "42195\n",
      "43078\n",
      "2019-01-24 17:45:53\n"
     ]
    }
   ],
   "source": [
    "path='C:/lyr/DM/result/'\n",
    "analysis(path)"
   ]
  },
  {
   "cell_type": "code",
   "execution_count": 4,
   "metadata": {},
   "outputs": [
    {
     "data": {
      "text/plain": [
       "{'Auto': Counter({'Auto': 55414}),\n",
       " 'business': Counter({'Auto': 6, 'business': 78011}),\n",
       " 'edu': Counter({'business': 1, 'edu': 53769}),\n",
       " 'ent': Counter({'ent': 72977}),\n",
       " 'healthy': Counter({'healthy': 32434}),\n",
       " 'mil': Counter({'mil': 42170}),\n",
       " 'policy': Counter({'policy': 31543}),\n",
       " 'sports': Counter({'sports': 61731}),\n",
       " 'tech': Counter({'tech': 35837}),\n",
       " 'tourism': Counter({'tech': 1, 'tourism': 42194}),\n",
       " 'women': Counter({'tourism': 17, 'women': 43061})}"
      ]
     },
     "execution_count": 4,
     "metadata": {},
     "output_type": "execute_result"
    }
   ],
   "source": [
    "allResults#训练的结果"
   ]
  },
  {
   "cell_type": "code",
   "execution_count": null,
   "metadata": {},
   "outputs": [],
   "source": []
  }
 ],
 "metadata": {
  "kernelspec": {
   "display_name": "Python 3",
   "language": "python",
   "name": "python3"
  },
  "language_info": {
   "codemirror_mode": {
    "name": "ipython",
    "version": 3
   },
   "file_extension": ".py",
   "mimetype": "text/x-python",
   "name": "python",
   "nbconvert_exporter": "python",
   "pygments_lexer": "ipython3",
   "version": "3.6.5"
  }
 },
 "nbformat": 4,
 "nbformat_minor": 2
}
